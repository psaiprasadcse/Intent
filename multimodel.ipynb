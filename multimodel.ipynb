{
 "cells": [
  {
   "cell_type": "code",
   "execution_count": null,
   "id": "4b68c80a-4cb5-4608-ac9e-ce0ba461cfd0",
   "metadata": {
    "tags": []
   },
   "outputs": [
    {
     "name": "stdout",
     "output_type": "stream",
     "text": [
      "Describe your problem or request:  How to know my ip address\n"
     ]
    },
    {
     "name": "stdout",
     "output_type": "stream",
     "text": [
      "Identified Intent by Logistic Regression: ipaddr\n",
      "Identified Intent by Random Forest: ipaddr\n",
      "Identified Intent by SVM: ipaddr\n",
      "Identified Intent by GPT-4: ipaddr\n",
      "Your IP address is: 172.27.17.40\n"
     ]
    },
    {
     "name": "stdout",
     "output_type": "stream",
     "text": [
      "Describe your problem or request:  Please tell my ip address\n"
     ]
    },
    {
     "name": "stdout",
     "output_type": "stream",
     "text": [
      "Identified Intent by Logistic Regression: ipaddr\n",
      "Identified Intent by Random Forest: ipaddr\n",
      "Identified Intent by SVM: ipaddr\n",
      "Identified Intent by GPT-4: ipaddr\n",
      "Your IP address is: 172.27.17.40\n"
     ]
    },
    {
     "name": "stdout",
     "output_type": "stream",
     "text": [
      "Describe your problem or request:  Need to know the ip of machine\n"
     ]
    },
    {
     "name": "stdout",
     "output_type": "stream",
     "text": [
      "Identified Intent by Logistic Regression: ipaddr\n",
      "Identified Intent by Random Forest: ipaddr\n",
      "Identified Intent by SVM: ipaddr\n",
      "Identified Intent by GPT-4: ipaddr\n",
      "Your IP address is: 172.27.17.40\n"
     ]
    },
    {
     "name": "stdout",
     "output_type": "stream",
     "text": [
      "Describe your problem or request:  Determine the IP address of my local network.\n"
     ]
    },
    {
     "name": "stdout",
     "output_type": "stream",
     "text": [
      "Identified Intent by Logistic Regression: ipaddr\n",
      "Identified Intent by Random Forest: ipaddr\n",
      "Identified Intent by SVM: ipaddr\n",
      "Identified Intent by GPT-4: ipaddr\n",
      "Your IP address is: 172.27.17.40\n"
     ]
    },
    {
     "name": "stdout",
     "output_type": "stream",
     "text": [
      "Describe your problem or request:  Please duplicate the file from this place to Desktop\n"
     ]
    },
    {
     "name": "stdout",
     "output_type": "stream",
     "text": [
      "Identified Intent by Logistic Regression: move\n",
      "Identified Intent by Random Forest: move\n",
      "Identified Intent by SVM: move\n",
      "Identified Intent by GPT-4: copy\n"
     ]
    },
    {
     "name": "stdout",
     "output_type": "stream",
     "text": [
      "Enter the source file name:  sample.txt \n",
      "Enter the destination path:  /Desktop/\n"
     ]
    },
    {
     "name": "stderr",
     "output_type": "stream",
     "text": [
      "cp: directory /Desktop does not exist\n"
     ]
    },
    {
     "name": "stdout",
     "output_type": "stream",
     "text": [
      "Failed to copy file 'sample.txt ': Command 'cp sample.txt  /Desktop/' returned non-zero exit status 1.\n"
     ]
    },
    {
     "name": "stdout",
     "output_type": "stream",
     "text": [
      "Describe your problem or request:  Please duplicate the file from this place\n"
     ]
    },
    {
     "name": "stdout",
     "output_type": "stream",
     "text": [
      "Identified Intent by Logistic Regression: move\n",
      "Identified Intent by Random Forest: move\n",
      "Identified Intent by SVM: move\n",
      "Identified Intent by GPT-4: copy\n"
     ]
    },
    {
     "name": "stdout",
     "output_type": "stream",
     "text": [
      "Enter the source file name:  sample.txt\n",
      "Enter the destination path:  sample_revised.txt\n"
     ]
    },
    {
     "name": "stdout",
     "output_type": "stream",
     "text": [
      "File 'sample.txt' copied to 'sample_revised.txt'.\n"
     ]
    },
    {
     "name": "stdout",
     "output_type": "stream",
     "text": [
      "Describe your problem or request:  How many files in this directory\n"
     ]
    },
    {
     "name": "stdout",
     "output_type": "stream",
     "text": [
      "Identified Intent by Logistic Regression: list\n",
      "Identified Intent by Random Forest: list\n",
      "Identified Intent by SVM: list\n",
      "Identified Intent by GPT-4: count\n",
      "There are 21 files in the current directory.\n"
     ]
    },
    {
     "name": "stdout",
     "output_type": "stream",
     "text": [
      "Describe your problem or request:  Display those files in the Directory\n"
     ]
    },
    {
     "name": "stdout",
     "output_type": "stream",
     "text": [
      "Identified Intent by Logistic Regression: list\n",
      "Identified Intent by Random Forest: list\n",
      "Identified Intent by SVM: list\n",
      "Identified Intent by GPT-4: list\n"
     ]
    },
    {
     "name": "stdout",
     "output_type": "stream",
     "text": [
      "Enter the directory name (leave blank for current directory):  \n"
     ]
    },
    {
     "name": "stdout",
     "output_type": "stream",
     "text": [
      "Files in '.': svm_model.pkl, vectorizer_svm.pkl, .DS_Store, requirements.txt, bin, include, etc, pyvenv.cfg, rf_model.pkl, sample_revised.txt, multimodelTest.ipynb, multimodel.ipynb, vectorizer_lr.pkl, lib, readme.txt, Train.csv, .ipynb_checkpoints, vectorizer_rf.pkl, logistic_model.pkl, sample.txt, share\n"
     ]
    }
   ],
   "source": [
    "import openai\n",
    "import pandas as pd\n",
    "from sklearn.model_selection import train_test_split\n",
    "from sklearn.feature_extraction.text import TfidfVectorizer\n",
    "from sklearn.linear_model import LogisticRegression\n",
    "from sklearn.ensemble import RandomForestClassifier\n",
    "from sklearn.svm import SVC\n",
    "import os\n",
    "import os\n",
    "import subprocess\n",
    "import platform\n",
    "\n",
    "import joblib\n",
    "\n",
    "# Set your OpenAI API key\n",
    "openai.api_key = \"Copy Yours\"\n",
    "\n",
    "# Load and preprocess the training data\n",
    "def load_training_data(train_csv_path):\n",
    "    df = pd.read_csv(train_csv_path)\n",
    "    prompts = df['Prompt'].values\n",
    "    intents = df['Intent'].values\n",
    "    return prompts, intents\n",
    "\n",
    "# Train a Logistic Regression model\n",
    "def train_logistic_model(prompts, intents):\n",
    "    vectorizer = TfidfVectorizer(stop_words='english')\n",
    "    X = vectorizer.fit_transform(prompts)\n",
    "    model = LogisticRegression()\n",
    "    model.fit(X, intents)\n",
    "    return model, vectorizer\n",
    "\n",
    "# Train a Random Forest model\n",
    "def train_random_forest_model(prompts, intents):\n",
    "    vectorizer = TfidfVectorizer(stop_words='english')\n",
    "    X = vectorizer.fit_transform(prompts)\n",
    "    model = RandomForestClassifier()\n",
    "    model.fit(X, intents)\n",
    "    return model, vectorizer\n",
    "\n",
    "# Train an SVM model\n",
    "def train_svm_model(prompts, intents):\n",
    "    vectorizer = TfidfVectorizer(stop_words='english')\n",
    "    X = vectorizer.fit_transform(prompts)\n",
    "    model = SVC(probability=True)  # Use probability=True for consistent output with other models\n",
    "    model.fit(X, intents)\n",
    "    return model, vectorizer\n",
    "\n",
    "# Predict intent using a trained model\n",
    "def predict_intent(model, vectorizer, prompt):\n",
    "    X = vectorizer.transform([prompt])\n",
    "    intent = model.predict(X)[0]\n",
    "    return intent\n",
    "\n",
    "# Check if intent is in the predefined list of intents\n",
    "def validate_intent(intent, intent_list):\n",
    "    return intent if intent in intent_list else \"No Such Operation\"\n",
    "\n",
    "# Use GPT-4o or GPT-4 as a fallback\n",
    "def identify_intent_with_gpt4o(prompt):\n",
    "    response = openai.ChatCompletion.create(\n",
    "        model=\"gpt-4\",\n",
    "        messages=[{\"role\": \"user\", \"content\": f\"Identify the operation or instruction to be performed for the given prompt using one word from the following list: Copy, list, Move, Count, Check, Rename, ipaddr, Create_file, Create_directory, remove_file, remove_directory. If the intent does not match any of these operations, display 'No Such Operation'. {prompt}\"}],\n",
    "        max_tokens=5,\n",
    "        n=1,\n",
    "        stop=None,\n",
    "        temperature=0.0,\n",
    "    )\n",
    "    return response['choices'][0]['message']['content'].strip().lower()\n",
    "\n",
    "#Perform the Operations\n",
    "\n",
    "def get_ip_address():\n",
    "    try:\n",
    "        if platform.system() == \"Linux\":\n",
    "            ip = subprocess.check_output(\"hostname -I\", shell=True).decode().strip()\n",
    "        elif platform.system() == \"Windows\":\n",
    "            ip = subprocess.check_output(\"ipconfig\", shell=True).decode()\n",
    "            ip = [line.split(\":\")[1].strip() for line in ip.splitlines() if \"IPv4 Address\" in line][0]\n",
    "        elif platform.system() == \"Darwin\":  # macOS\n",
    "            ip = subprocess.check_output(\"ifconfig | grep inet\", shell=True).decode().strip()\n",
    "            ip = [line.split()[1] for line in ip.splitlines() if \"inet \" in line and \"127.0.0.1\" not in line][0]\n",
    "        else:\n",
    "            ip = \"Unknown Operating System\"\n",
    "        print(f\"Your IP address is: {ip}\")\n",
    "    except subprocess.CalledProcessError as e:\n",
    "        return f\"Failed to retrieve IP address: {str(e)}\"\n",
    "    except IndexError:\n",
    "        return \"Could not parse IP address from command output.\"\n",
    "\n",
    "def count_files_in_directory():\n",
    "    try:\n",
    "        files = os.listdir('.')\n",
    "        print(f\"There are {len(files)} files in the current directory.\")\n",
    "    except Exception as e:\n",
    "        print(f\"Failed to count files: {str(e)}\")\n",
    "\n",
    "def create_directory():\n",
    "    directory_name = input(\"Enter the name of the directory you want to create: \")\n",
    "    try:\n",
    "        os.makedirs(directory_name)\n",
    "        print(f\"Directory '{directory_name}' created successfully.\")\n",
    "        #print(\"Done\")\n",
    "    except Exception as e:\n",
    "        print(f\"Failed to create directory '{directory_name}': {str(e)}\")\n",
    "         \n",
    "\n",
    "def delete_directory():\n",
    "    directory_name = input(\"Enter the name of the directory you want to delete: \")\n",
    "    try:\n",
    "        os.rmdir(directory_name)\n",
    "        print(f\"Directory '{directory_name}' deleted successfully.\")\n",
    "    except Exception as e:\n",
    "        print(f\"Failed to delete directory '{directory_name}': {str(e)}\")\n",
    "\n",
    "def list_files_in_directory():\n",
    "    directory_name = input(\"Enter the directory name (leave blank for current directory): \") or \".\"\n",
    "    try:\n",
    "        files = os.listdir(directory_name)\n",
    "        print(f\"Files in '{directory_name}': {', '.join(files)}\")\n",
    "    except Exception as e:\n",
    "        print(f\"Failed to list files in directory '{directory_name}': {str(e)}\")\n",
    "\n",
    "def move_file():\n",
    "    source = input(\"Enter the source file name: \")\n",
    "    destination = input(\"Enter the destination path: \")\n",
    "    try:\n",
    "        os.rename(source, destination)\n",
    "        print(f\"File '{source}' moved to '{destination}'.\")\n",
    "    except Exception as e:\n",
    "        print(f\"Failed to move file '{source}': {str(e)}\")\n",
    "\n",
    "def copy_file():\n",
    "    source = input(\"Enter the source file name: \")\n",
    "    destination = input(\"Enter the destination path: \")\n",
    "    try:\n",
    "        subprocess.check_output(f\"cp {source} {destination}\", shell=True)\n",
    "        print(f\"File '{source}' copied to '{destination}'.\")\n",
    "    except Exception as e:\n",
    "        print(f\"Failed to copy file '{source}': {str(e)}\")\n",
    "\n",
    "def delete_file():\n",
    "    file_name = input(\"Enter the name of the file you want to delete: \")\n",
    "    try:\n",
    "        os.remove(file_name)\n",
    "        print(f\"File '{file_name}' deleted successfully.\")\n",
    "    except Exception as e:\n",
    "        print(f\"Failed to delete file '{file_name}': {str(e)}\")\n",
    "\n",
    "def create_file():\n",
    "    file_name = input(\"Enter the name of the file you want to create: \")\n",
    "    try:\n",
    "        with open(file_name, 'w') as file:\n",
    "            print(f\"File '{file_name}' Created successfully.\")\n",
    "    except Exception as e:\n",
    "        print(f\"Failed to Create file '{file_name}': {str(e)}\")\n",
    "\n",
    "\n",
    "def rename_file():\n",
    "    old_name = input(\"Enter the current file name: \")\n",
    "    new_name = input(\"Enter the new file name: \")\n",
    "    try:\n",
    "        os.rename(old_name, new_name)\n",
    "        print(f\"File '{old_name}' renamed to '{new_name}'.\")\n",
    "    except Exception as e:\n",
    "        print(f\"Failed to rename file '{old_name}': {str(e)}\")\n",
    "\n",
    "def check_file_existence():\n",
    "    file_name = input(\"Enter the name of the file you want to check: \")\n",
    "    try:\n",
    "        exists = os.path.exists(file_name)\n",
    "        print(f\"File '{file_name}' exists: {exists}\")\n",
    "    except Exception as e:\n",
    "        print(f\"Failed to check file existence: {str(e)}\")\n",
    "\n",
    "\n",
    "def execute_command(command):\n",
    "    if command == \"ipaddr\":\n",
    "        return get_ip_address()\n",
    "    elif command == \"count\":\n",
    "        return count_files_in_directory()\n",
    "    elif command == \"create_directory\":\n",
    "        return create_directory()\n",
    "    elif command == \"remove_directory\":\n",
    "        return delete_directory()\n",
    "    elif command == \"list\":\n",
    "        return list_files_in_directory()\n",
    "    elif command == \"move\":\n",
    "        return move_file()\n",
    "    elif command == \"copy\":\n",
    "        return copy_file()\n",
    "    elif command == \"remove_file\":\n",
    "        return delete_file()\n",
    "    elif command == \"rename\":\n",
    "        return move_file()\n",
    "    elif command == \"create_file\":\n",
    "        return create_file()\n",
    "    elif command == \"check\":\n",
    "        return check_file_existence()\n",
    "    else:\n",
    "        return \"Sorry, I didn't understand the command.\"\n",
    "\n",
    "\n",
    "train_csv_path = 'Train.csv'\n",
    "prompts, intents = load_training_data(train_csv_path)\n",
    "\n",
    "# Train the Logistic Regression model\n",
    "logistic_model, vectorizer_lr = train_logistic_model(prompts, intents)\n",
    "\n",
    "# Train the Random Forest model\n",
    "rf_model, vectorizer_rf = train_random_forest_model(prompts, intents)\n",
    "\n",
    "# Train the SVM model\n",
    "svm_model, vectorizer_svm = train_svm_model(prompts, intents)\n",
    "\n",
    "# Save the models and vectorizers\n",
    "joblib.dump(logistic_model, 'logistic_model.pkl')\n",
    "joblib.dump(vectorizer_lr, 'vectorizer_lr.pkl')\n",
    "joblib.dump(rf_model, 'rf_model.pkl')\n",
    "joblib.dump(vectorizer_rf, 'vectorizer_rf.pkl')\n",
    "joblib.dump(svm_model, 'svm_model.pkl')\n",
    "joblib.dump(vectorizer_svm, 'vectorizer_svm.pkl')\n",
    "\n",
    "# Load the models and vectorizers\n",
    "logistic_model = joblib.load('logistic_model.pkl')\n",
    "vectorizer_lr = joblib.load('vectorizer_lr.pkl')\n",
    "rf_model = joblib.load('rf_model.pkl')\n",
    "vectorizer_rf = joblib.load('vectorizer_rf.pkl')\n",
    "svm_model = joblib.load('svm_model.pkl')\n",
    "vectorizer_svm = joblib.load('vectorizer_svm.pkl')\n",
    "\n",
    "# List of valid intents\n",
    "valid_intents = [\"copy\", \"list\", \"count\", \"move\", \"ipaddr\", \"check\", \"create_file\", \"create_directory\", \"remove_file\", \"remove_directory\"]\n",
    "\n",
    "# Main loop to take user input and process it\n",
    "while True:\n",
    "    user_input = input(\"Describe your problem or request: \")\n",
    "    \n",
    "    # Predict intent using Logistic Regression\n",
    "    logistic_intent = predict_intent(logistic_model, vectorizer_lr, user_input)\n",
    "    \n",
    "    # Predict intent using Random Forest\n",
    "    rf_intent = predict_intent(rf_model, vectorizer_rf, user_input)\n",
    "\n",
    "    # Predict intent using SVM\n",
    "    svm_intent = predict_intent(svm_model, vectorizer_svm, user_input)\n",
    "    \n",
    "    # Validate the intents\n",
    "    validated_logistic_intent = validate_intent(logistic_intent, valid_intents)\n",
    "    validated_rf_intent = validate_intent(rf_intent, valid_intents)\n",
    "    validated_svm_intent = validate_intent(svm_intent, valid_intents)\n",
    "    \n",
    "    # If no valid intent, fall back to GPT-4o\n",
    "    if validated_logistic_intent == \"No Such Operation\":\n",
    "        validated_logistic_intent = identify_intent_with_gpt4o(user_input)\n",
    "        \n",
    "    if validated_rf_intent == \"No Such Operation\":\n",
    "        validated_rf_intent = identify_intent_with_gpt4o(user_input)\n",
    "\n",
    "    if validated_svm_intent == \"No Such Operation\":\n",
    "        validated_svm_intent = identify_intent_with_gpt4o(user_input)\n",
    "    \n",
    "    \n",
    "    # Identify intent with GPT-4o\n",
    "    gpt_intent = identify_intent_with_gpt4o(user_input)\n",
    "    \n",
    "    print(f\"Identified Intent by Logistic Regression: {validated_logistic_intent}\")\n",
    "    print(f\"Identified Intent by Random Forest: {validated_rf_intent}\")\n",
    "    print(f\"Identified Intent by SVM: {validated_svm_intent}\")\n",
    "    print(f\"Identified Intent by GPT-4: {gpt_intent}\")\n",
    "    \n",
    "    \n",
    "    execute_command(gpt_intent)\n"
   ]
  },
  {
   "cell_type": "code",
   "execution_count": null,
   "id": "0df8d76a-4746-4e04-bad3-8c1e129e9508",
   "metadata": {},
   "outputs": [],
   "source": []
  }
 ],
 "metadata": {
  "kernelspec": {
   "display_name": "Python 3 (ipykernel)",
   "language": "python",
   "name": "python3"
  },
  "language_info": {
   "codemirror_mode": {
    "name": "ipython",
    "version": 3
   },
   "file_extension": ".py",
   "mimetype": "text/x-python",
   "name": "python",
   "nbconvert_exporter": "python",
   "pygments_lexer": "ipython3",
   "version": "3.11.5"
  }
 },
 "nbformat": 4,
 "nbformat_minor": 5
}
